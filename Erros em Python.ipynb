{
 "cells": [
  {
   "cell_type": "markdown",
   "metadata": {},
   "source": [
    "1 erro de sintaxe (sintax error)\n",
    "\n",
    "2 erro de identação (identation error)\n",
    "\n",
    "3 erro de tipo (type error)\n",
    "\n",
    "4 erro de nome (name error)\n",
    "\n",
    "5 erro de divisão por zero (zero division error)\n",
    "\n",
    "6 erro de indice (index error)\n",
    "\n",
    "7 erro de tempo de execução (runtime error)"
   ]
  },
  {
   "cell_type": "markdown",
   "metadata": {},
   "source": [
    "### sintax error = formas de escrita de uma linguagem de programação. Regras pré definidas pelo programa de como o código deve ser escrito. "
   ]
  },
  {
   "cell_type": "markdown",
   "metadata": {},
   "source": [
    "### identation error = São os espaços criados para a escrita do código seguindo uma sequência lógica de informações criada pelo programa. Pode ser feito manualmente desde que siga a referência já criada, e siga a instrução do erro. "
   ]
  },
  {
   "cell_type": "markdown",
   "metadata": {},
   "source": [
    "### https://www.tutorialsteacher.com/python/error-types-in-python"
   ]
  },
  {
   "cell_type": "markdown",
   "metadata": {},
   "source": [
    "### type error = Acontecem quando os tipos, ou a forma de escrever os tipos são conflitantes com os códigos escritos e a linguagem de programação. Tipos que só aceitam 1 único tipo de código. "
   ]
  },
  {
   "cell_type": "markdown",
   "metadata": {},
   "source": [
    "#### shift + tab tras o jeito certo de escrever o código "
   ]
  },
  {
   "cell_type": "markdown",
   "metadata": {},
   "source": [
    "### name error = erros quando o interpretador do Python não lê as variáveis com valores. Sem valores nas varíáveis ou o tipo de variável, um valor definido para ela. "
   ]
  },
  {
   "cell_type": "markdown",
   "metadata": {},
   "source": [
    "### zero division error = quando valores são divididos por zero porque a divisão não existe em padrões e não traz resultados de fato. "
   ]
  },
  {
   "cell_type": "markdown",
   "metadata": {},
   "source": [
    "### index error = Indexar alguns dados que não estão dentro dos limites de dados do código do programa. Está fora dos limites criados pelo códugo e não interpretado pelo programa. "
   ]
  },
  {
   "cell_type": "markdown",
   "metadata": {},
   "source": [
    "### runtime error = Quando o python não consegue identificar o erro, o caminho, código ou variavel que gerou o erro. "
   ]
  }
 ],
 "metadata": {
  "kernelspec": {
   "display_name": "Python 3",
   "language": "python",
   "name": "python3"
  },
  "language_info": {
   "codemirror_mode": {
    "name": "ipython",
    "version": 3
   },
   "file_extension": ".py",
   "mimetype": "text/x-python",
   "name": "python",
   "nbconvert_exporter": "python",
   "pygments_lexer": "ipython3",
   "version": "3.8.5"
  }
 },
 "nbformat": 4,
 "nbformat_minor": 4
}
