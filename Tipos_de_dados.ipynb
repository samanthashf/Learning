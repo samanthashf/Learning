{
  "nbformat": 4,
  "nbformat_minor": 0,
  "metadata": {
    "kernelspec": {
      "display_name": "Python 3",
      "language": "python",
      "name": "python3"
    },
    "language_info": {
      "codemirror_mode": {
        "name": "ipython",
        "version": 3
      },
      "file_extension": ".py",
      "mimetype": "text/x-python",
      "name": "python",
      "nbconvert_exporter": "python",
      "pygments_lexer": "ipython3",
      "version": "3.8.5"
    },
    "colab": {
      "name": "Tipos de dados.ipynb",
      "provenance": [],
      "collapsed_sections": [],
      "include_colab_link": true
    }
  },
  "cells": [
    {
      "cell_type": "markdown",
      "metadata": {
        "id": "view-in-github",
        "colab_type": "text"
      },
      "source": [
        "<a href=\"https://colab.research.google.com/github/samanthashf/Learning/blob/main/Tipos_de_dados.ipynb\" target=\"_parent\"><img src=\"https://colab.research.google.com/assets/colab-badge.svg\" alt=\"Open In Colab\"/></a>"
      ]
    },
    {
      "cell_type": "markdown",
      "metadata": {
        "id": "9-OHMuR27vn7"
      },
      "source": [
        "## Métodos e strings"
      ]
    },
    {
      "cell_type": "code",
      "metadata": {
        "id": "NnRIBEHs7voI",
        "outputId": "f5d611be-26e2-4617-96a3-7a7107c6d9d4"
      },
      "source": [
        "#comandos nativos do python como\n",
        "\n",
        "print (\"samantha\")"
      ],
      "execution_count": null,
      "outputs": [
        {
          "output_type": "stream",
          "text": [
            "samantha\n"
          ],
          "name": "stdout"
        }
      ]
    },
    {
      "cell_type": "code",
      "metadata": {
        "id": "kZfYJaCc7voL",
        "outputId": "62f04d63-2715-4bbf-a4ac-55164d8c8c47"
      },
      "source": [
        "#ou tipos\n",
        "\n",
        "type ('Olá')"
      ],
      "execution_count": null,
      "outputs": [
        {
          "output_type": "execute_result",
          "data": {
            "text/plain": [
              "str"
            ]
          },
          "metadata": {
            "tags": []
          },
          "execution_count": 2
        }
      ]
    },
    {
      "cell_type": "code",
      "metadata": {
        "id": "B-oQxWkR7voM",
        "outputId": "5d1d4666-6cbd-4101-830e-4066098cde06"
      },
      "source": [
        "type (24)"
      ],
      "execution_count": null,
      "outputs": [
        {
          "output_type": "execute_result",
          "data": {
            "text/plain": [
              "int"
            ]
          },
          "metadata": {
            "tags": []
          },
          "execution_count": 3
        }
      ]
    },
    {
      "cell_type": "code",
      "metadata": {
        "id": "aY3s2DJe7voM"
      },
      "source": [
        "x = \"terra\""
      ],
      "execution_count": null,
      "outputs": []
    },
    {
      "cell_type": "code",
      "metadata": {
        "id": "Jd-JR-7w7voN",
        "outputId": "75193410-75ee-40a1-a859-4cff5dd8cb4a"
      },
      "source": [
        "type (x)"
      ],
      "execution_count": null,
      "outputs": [
        {
          "output_type": "execute_result",
          "data": {
            "text/plain": [
              "str"
            ]
          },
          "metadata": {
            "tags": []
          },
          "execution_count": 5
        }
      ]
    },
    {
      "cell_type": "code",
      "metadata": {
        "id": "OBGzTHHc7voN",
        "outputId": "f265605f-2cf7-4726-cd8c-30a399cf135d"
      },
      "source": [
        "x.upper ()"
      ],
      "execution_count": null,
      "outputs": [
        {
          "output_type": "execute_result",
          "data": {
            "text/plain": [
              "'TERRA'"
            ]
          },
          "metadata": {
            "tags": []
          },
          "execution_count": 7
        }
      ]
    },
    {
      "cell_type": "code",
      "metadata": {
        "id": "KL4Id3Ba7voO",
        "outputId": "145e90bf-0e1b-4cd5-c275-d9910be82fdf"
      },
      "source": [
        "#guardar string dentro de uma variável \n",
        "\n",
        "y = x.upper()\n",
        "\n",
        "print(y)\n"
      ],
      "execution_count": null,
      "outputs": [
        {
          "output_type": "stream",
          "text": [
            "TERRA\n"
          ],
          "name": "stdout"
        }
      ]
    },
    {
      "cell_type": "code",
      "metadata": {
        "id": "LKcgd9LB7voP",
        "outputId": "3883788e-bc98-4350-85b9-80b883fc4a98"
      },
      "source": [
        "#caixa alta na primeira letra \n",
        "\n",
        "y = x.title()\n",
        "\n",
        "print(y)"
      ],
      "execution_count": null,
      "outputs": [
        {
          "output_type": "stream",
          "text": [
            "Terra\n"
          ],
          "name": "stdout"
        }
      ]
    },
    {
      "cell_type": "code",
      "metadata": {
        "id": "h86ZgLFG7voP",
        "outputId": "f451481a-0bae-4eb4-d200-8d29459aac20"
      },
      "source": [
        "#palavra em caixa alta muda para caixa baixa \n",
        "\n",
        "y = \"CANETA\"\n",
        "\n",
        "y.lower ()\n"
      ],
      "execution_count": null,
      "outputs": [
        {
          "output_type": "execute_result",
          "data": {
            "text/plain": [
              "'caneta'"
            ]
          },
          "metadata": {
            "tags": []
          },
          "execution_count": 14
        }
      ]
    },
    {
      "cell_type": "code",
      "metadata": {
        "id": "9q7S_bNs7voQ",
        "outputId": "6b4dc21a-478d-4f0f-9630-05a1a9ac32e2"
      },
      "source": [
        "#lista de métodos das através do \n",
        "\n",
        "dir(\"freio\")"
      ],
      "execution_count": null,
      "outputs": [
        {
          "output_type": "execute_result",
          "data": {
            "text/plain": [
              "['__add__',\n",
              " '__class__',\n",
              " '__contains__',\n",
              " '__delattr__',\n",
              " '__dir__',\n",
              " '__doc__',\n",
              " '__eq__',\n",
              " '__format__',\n",
              " '__ge__',\n",
              " '__getattribute__',\n",
              " '__getitem__',\n",
              " '__getnewargs__',\n",
              " '__gt__',\n",
              " '__hash__',\n",
              " '__init__',\n",
              " '__init_subclass__',\n",
              " '__iter__',\n",
              " '__le__',\n",
              " '__len__',\n",
              " '__lt__',\n",
              " '__mod__',\n",
              " '__mul__',\n",
              " '__ne__',\n",
              " '__new__',\n",
              " '__reduce__',\n",
              " '__reduce_ex__',\n",
              " '__repr__',\n",
              " '__rmod__',\n",
              " '__rmul__',\n",
              " '__setattr__',\n",
              " '__sizeof__',\n",
              " '__str__',\n",
              " '__subclasshook__',\n",
              " 'capitalize',\n",
              " 'casefold',\n",
              " 'center',\n",
              " 'count',\n",
              " 'encode',\n",
              " 'endswith',\n",
              " 'expandtabs',\n",
              " 'find',\n",
              " 'format',\n",
              " 'format_map',\n",
              " 'index',\n",
              " 'isalnum',\n",
              " 'isalpha',\n",
              " 'isascii',\n",
              " 'isdecimal',\n",
              " 'isdigit',\n",
              " 'isidentifier',\n",
              " 'islower',\n",
              " 'isnumeric',\n",
              " 'isprintable',\n",
              " 'isspace',\n",
              " 'istitle',\n",
              " 'isupper',\n",
              " 'join',\n",
              " 'ljust',\n",
              " 'lower',\n",
              " 'lstrip',\n",
              " 'maketrans',\n",
              " 'partition',\n",
              " 'replace',\n",
              " 'rfind',\n",
              " 'rindex',\n",
              " 'rjust',\n",
              " 'rpartition',\n",
              " 'rsplit',\n",
              " 'rstrip',\n",
              " 'split',\n",
              " 'splitlines',\n",
              " 'startswith',\n",
              " 'strip',\n",
              " 'swapcase',\n",
              " 'title',\n",
              " 'translate',\n",
              " 'upper',\n",
              " 'zfill']"
            ]
          },
          "metadata": {
            "tags": []
          },
          "execution_count": 16
        }
      ]
    },
    {
      "cell_type": "code",
      "metadata": {
        "id": "MG6JNARh7voR",
        "outputId": "30861034-e906-473f-c67d-ee06e6ff332e"
      },
      "source": [
        "print(\"Samantha tem 40 anos\")"
      ],
      "execution_count": null,
      "outputs": [
        {
          "output_type": "stream",
          "text": [
            "Samantha tem 40 anos\n"
          ],
          "name": "stdout"
        }
      ]
    },
    {
      "cell_type": "markdown",
      "metadata": {
        "id": "hrppqJ4O7voR"
      },
      "source": [
        "## Indexação e fatiamento"
      ]
    },
    {
      "cell_type": "code",
      "metadata": {
        "id": "6YLW_QVn7voS",
        "outputId": "33339524-c671-47cc-a6a3-21682ab07de5"
      },
      "source": [
        "nome = \"Samantha Ferreira\"\n",
        "\n",
        "print(nome)"
      ],
      "execution_count": null,
      "outputs": [
        {
          "output_type": "stream",
          "text": [
            "Samantha Ferreira\n"
          ],
          "name": "stdout"
        }
      ]
    },
    {
      "cell_type": "code",
      "metadata": {
        "id": "YompmZCi7voS",
        "outputId": "3ebc0129-5917-4edb-ba85-8fb7201c1e69"
      },
      "source": [
        "nome[3]"
      ],
      "execution_count": null,
      "outputs": [
        {
          "output_type": "execute_result",
          "data": {
            "text/plain": [
              "'a'"
            ]
          },
          "metadata": {
            "tags": []
          },
          "execution_count": 31
        }
      ]
    },
    {
      "cell_type": "code",
      "metadata": {
        "id": "IqHugpWf7voT",
        "outputId": "3e0b49b6-2778-4d72-d7c3-a2f08d51bf1b"
      },
      "source": [
        "letra = nome[4]\n",
        "\n",
        "print(letra)"
      ],
      "execution_count": null,
      "outputs": [
        {
          "output_type": "stream",
          "text": [
            "n\n"
          ],
          "name": "stdout"
        }
      ]
    },
    {
      "cell_type": "code",
      "metadata": {
        "id": "DKhzK9Hr7voT",
        "outputId": "167095dc-8913-4124-f565-6fbd59496970"
      },
      "source": [
        "letra = nome [5]\n",
        "print(letra)\n"
      ],
      "execution_count": null,
      "outputs": [
        {
          "output_type": "stream",
          "text": [
            "t\n"
          ],
          "name": "stdout"
        }
      ]
    },
    {
      "cell_type": "code",
      "metadata": {
        "id": "7Vr1oB017voU",
        "outputId": "bf4f9192-710f-4ff1-a132-f4854c073869"
      },
      "source": [
        "letra = nome [0:8]\n",
        "print(letra)\n"
      ],
      "execution_count": null,
      "outputs": [
        {
          "output_type": "stream",
          "text": [
            "Samantha\n"
          ],
          "name": "stdout"
        }
      ]
    },
    {
      "cell_type": "code",
      "metadata": {
        "id": "rYdzOy7I7voU",
        "outputId": "684cf047-499b-417d-bdb1-af674cd7ba39"
      },
      "source": [
        "letra = nome[-3:-2]\n",
        "print(letra)"
      ],
      "execution_count": null,
      "outputs": [
        {
          "output_type": "stream",
          "text": [
            "i\n"
          ],
          "name": "stdout"
        }
      ]
    },
    {
      "cell_type": "code",
      "metadata": {
        "id": "9rZ5Yg3n7voV",
        "outputId": "77a5176b-d74a-47b4-c1e6-2510e2914d77"
      },
      "source": [
        "letra = nome.replace(\"S\", \"R\")\n",
        "print(letra)"
      ],
      "execution_count": null,
      "outputs": [
        {
          "output_type": "stream",
          "text": [
            "Ramantha Ferreira\n"
          ],
          "name": "stdout"
        }
      ]
    },
    {
      "cell_type": "markdown",
      "metadata": {
        "id": "wr-rlcPA7voV"
      },
      "source": [
        "## Formatação de strings"
      ]
    },
    {
      "cell_type": "code",
      "metadata": {
        "id": "aEIjGdOx7voW"
      },
      "source": [
        "r = \"samantha\"\n",
        "s = \"hipolito\"\n",
        "t = \"ferreira\"\n"
      ],
      "execution_count": null,
      "outputs": []
    },
    {
      "cell_type": "code",
      "metadata": {
        "id": "7ngGonf07voW",
        "outputId": "d6599904-f7d8-46f3-a153-d2e2e9b1147f"
      },
      "source": [
        "u = r + s + t\n",
        "\n",
        "u"
      ],
      "execution_count": null,
      "outputs": [
        {
          "output_type": "execute_result",
          "data": {
            "text/plain": [
              "'samanthahipolitoferreira'"
            ]
          },
          "metadata": {
            "tags": []
          },
          "execution_count": 78
        }
      ]
    },
    {
      "cell_type": "code",
      "metadata": {
        "id": "_N41Iuv37voW",
        "outputId": "1880873c-a199-485a-dd29-c967f6447663"
      },
      "source": [
        "u = r + ' '+ s + ' ' + t\n",
        "\n",
        "u"
      ],
      "execution_count": null,
      "outputs": [
        {
          "output_type": "execute_result",
          "data": {
            "text/plain": [
              "'samantha hipolito ferreira'"
            ]
          },
          "metadata": {
            "tags": []
          },
          "execution_count": 80
        }
      ]
    },
    {
      "cell_type": "code",
      "metadata": {
        "id": "1ii6I_rC7voX"
      },
      "source": [
        "v = \"Meu nome é\" \n"
      ],
      "execution_count": null,
      "outputs": []
    },
    {
      "cell_type": "code",
      "metadata": {
        "id": "s2bZMAQ27voX",
        "outputId": "56d0db9a-b06b-405e-959f-738038008b4f"
      },
      "source": [
        "u = v + ' ' + r \n",
        "\n",
        "u"
      ],
      "execution_count": null,
      "outputs": [
        {
          "output_type": "execute_result",
          "data": {
            "text/plain": [
              "'Meu nome é samantha'"
            ]
          },
          "metadata": {
            "tags": []
          },
          "execution_count": 86
        }
      ]
    },
    {
      "cell_type": "code",
      "metadata": {
        "id": "nXD9efSy7voY",
        "outputId": "a84fbf91-91d9-495d-a1c0-a7fd892a0e7e"
      },
      "source": [
        "s = \"Samantha\"\n",
        "y = \"40 anos\"\n",
        "\n",
        "z = \"meu nome é {} e eu tenho {}\". format(r,y)\n",
        "\n",
        "print(z)"
      ],
      "execution_count": null,
      "outputs": [
        {
          "output_type": "stream",
          "text": [
            "meu nome é samantha e eu tenho 40 anos\n"
          ],
          "name": "stdout"
        }
      ]
    },
    {
      "cell_type": "code",
      "metadata": {
        "id": "2AVQCr4n7voY",
        "outputId": "0b55b777-241b-4eef-b45c-7d135de9fffb"
      },
      "source": [
        "r = \"samantha\"\n",
        "y = \"40 anos\"\n",
        "\n",
        "z = \"meu nome é {0} e eu tenho {1}\". format(r,y)\n",
        "\n",
        "print(z)"
      ],
      "execution_count": null,
      "outputs": [
        {
          "output_type": "stream",
          "text": [
            "meu nome é samantha e eu tenho 40 anos\n"
          ],
          "name": "stdout"
        }
      ]
    },
    {
      "cell_type": "code",
      "metadata": {
        "id": "AXgaP-gd7voZ",
        "outputId": "012d48d4-54b3-436e-c2d6-97240b98ea6b"
      },
      "source": [
        "#o \\n quebra a linha. \n",
        "\n",
        "custo_total = 3200\n",
        "\n",
        "print(\"Gostaria de parcelar?\")\n",
        "\n",
        "texto = input()\n",
        "\n",
        "print(\"Em quantas?\")\n",
        "\n",
        "parcelas = int(input())\n",
        "\n",
        "valor_das_parcelas = custo_total/parcelas\n",
        "\n",
        "print(\"o valor parcelado em\", parcelas, \"de R$\\n\", valor_das_parcelas, \"sem juros\") "
      ],
      "execution_count": null,
      "outputs": [
        {
          "output_type": "stream",
          "text": [
            "Gostaria de parcelar?\n",
            "sim\n",
            "Em quantas?\n",
            "5\n",
            "o valor parcelado em 5 de R$\n",
            " 640.0 sem juros\n"
          ],
          "name": "stdout"
        }
      ]
    },
    {
      "cell_type": "code",
      "metadata": {
        "scrolled": true,
        "id": "3EavlNK_7voZ",
        "outputId": "2ced9bd7-aaf3-4809-cd73-a412bdc4fc26"
      },
      "source": [
        "z = \"meu nome é {} e eu tenho {}\".format(r, y)\n",
        "\n",
        "print(z)"
      ],
      "execution_count": null,
      "outputs": [
        {
          "output_type": "stream",
          "text": [
            "meu nome é samantha e eu tenho 40 anos\n"
          ],
          "name": "stdout"
        }
      ]
    },
    {
      "cell_type": "code",
      "metadata": {
        "id": "sPU8Fbah7voZ",
        "outputId": "f2b55f25-7237-4d80-bde0-a4031a2be12e"
      },
      "source": [
        "z = f\"meu nome é {r} e eu tenho {y}\"\n",
        "\n",
        "print(z)"
      ],
      "execution_count": null,
      "outputs": [
        {
          "output_type": "stream",
          "text": [
            "meu nome é samantha e eu tenho 40 anos\n"
          ],
          "name": "stdout"
        }
      ]
    },
    {
      "cell_type": "code",
      "metadata": {
        "id": "PYLztEkk7voa",
        "outputId": "6356cfb0-3743-4f92-e8b9-f01a0d38933f"
      },
      "source": [
        "x = ['samantha', 'comer','40 anos']\n",
        "\n",
        "s = f'meu nome é {x[0]} eu gosto de {x[1]} e tenho {x[2]}'\n",
        "\n",
        "print(s)"
      ],
      "execution_count": null,
      "outputs": [
        {
          "output_type": "stream",
          "text": [
            "meu nome é samantha eu gosto de comer e tenho 40 anos\n"
          ],
          "name": "stdout"
        }
      ]
    },
    {
      "cell_type": "markdown",
      "metadata": {
        "id": "RaJgrM917voa"
      },
      "source": [
        "## Listas"
      ]
    },
    {
      "cell_type": "code",
      "metadata": {
        "scrolled": true,
        "id": "oEBEJeCZ7vob",
        "outputId": "cc7acd74-1315-4932-d636-856635aa2cec"
      },
      "source": [
        "cor1 = 'azul'\n",
        "cor2 = 'amarelo'\n",
        "cor3 = 'roxo'\n",
        "\n",
        "print(cor1)"
      ],
      "execution_count": null,
      "outputs": [
        {
          "output_type": "stream",
          "text": [
            "azul\n"
          ],
          "name": "stdout"
        }
      ]
    },
    {
      "cell_type": "code",
      "metadata": {
        "id": "EBRvs7I77vob",
        "outputId": "2a39a7ab-fb9a-4373-fdd8-98acaa42c5f6"
      },
      "source": [
        "teste = ['azul', 'preto', 'roxo', 3.13, 97 ]\n",
        "print(teste)"
      ],
      "execution_count": null,
      "outputs": [
        {
          "output_type": "stream",
          "text": [
            "['azul', 'preto', 'roxo', 3.13, 97]\n"
          ],
          "name": "stdout"
        }
      ]
    },
    {
      "cell_type": "code",
      "metadata": {
        "id": "WUTIuw1p7voc",
        "outputId": "f8120b4f-388d-4d34-80cb-06495bd45a08"
      },
      "source": [
        "cor = teste[4]\n",
        "print(cor)"
      ],
      "execution_count": null,
      "outputs": [
        {
          "output_type": "stream",
          "text": [
            "97\n"
          ],
          "name": "stdout"
        }
      ]
    },
    {
      "cell_type": "code",
      "metadata": {
        "id": "Npsvnudw7voc",
        "outputId": "e441abe0-0510-49e6-88cc-338f9bfc0b5f"
      },
      "source": [
        "cor = teste[-2]\n",
        "print(cor)"
      ],
      "execution_count": null,
      "outputs": [
        {
          "output_type": "stream",
          "text": [
            "['azul', 88, 4.14, 'preto', 'amarelo']\n"
          ],
          "name": "stdout"
        }
      ]
    },
    {
      "cell_type": "code",
      "metadata": {
        "id": "pWAWKWQ37voc",
        "outputId": "56813c15-fd95-4225-beab-4fabb30dda3d"
      },
      "source": [
        "cor = teste[1:4]\n",
        "print(cor)"
      ],
      "execution_count": null,
      "outputs": [
        {
          "output_type": "stream",
          "text": [
            "['preto', 'roxo', 3.13]\n"
          ],
          "name": "stdout"
        }
      ]
    },
    {
      "cell_type": "code",
      "metadata": {
        "id": "mKDg1exg7vod",
        "outputId": "abddb4f9-38eb-4836-bf0a-86dc00f9342e"
      },
      "source": [
        "cores = ['azul', 88, 4.14, 'preto', 'amarelo']\n",
        "print(cores)"
      ],
      "execution_count": null,
      "outputs": [
        {
          "output_type": "stream",
          "text": [
            "['azul', 88, 4.14, 'preto', 'amarelo']\n"
          ],
          "name": "stdout"
        }
      ]
    },
    {
      "cell_type": "code",
      "metadata": {
        "id": "BQq0bdAq7vod",
        "outputId": "04f092cb-2b93-424c-a167-f7ce4418f765"
      },
      "source": [
        "#len de tamanho, para saber o tamanho da lista\n",
        "\n",
        "len(cores)"
      ],
      "execution_count": null,
      "outputs": [
        {
          "output_type": "execute_result",
          "data": {
            "text/plain": [
              "5"
            ]
          },
          "metadata": {
            "tags": []
          },
          "execution_count": 26
        }
      ]
    },
    {
      "cell_type": "code",
      "metadata": {
        "id": "MMQhKmi27voe",
        "outputId": "b06d53c7-5336-41b3-c9ce-3382fb1805fc"
      },
      "source": [
        "len(teste)"
      ],
      "execution_count": null,
      "outputs": [
        {
          "output_type": "execute_result",
          "data": {
            "text/plain": [
              "5"
            ]
          },
          "metadata": {
            "tags": []
          },
          "execution_count": 27
        }
      ]
    },
    {
      "cell_type": "code",
      "metadata": {
        "id": "_Gu3iWi97voe"
      },
      "source": [
        "#Pop remover elementos da lista "
      ],
      "execution_count": null,
      "outputs": []
    },
    {
      "cell_type": "code",
      "metadata": {
        "id": "f3nOMnbB7voe",
        "outputId": "b9fc69b4-146e-4ad2-c7b3-aafaadd75a75"
      },
      "source": [
        "cores.pop()"
      ],
      "execution_count": null,
      "outputs": [
        {
          "output_type": "execute_result",
          "data": {
            "text/plain": [
              "'amarelo'"
            ]
          },
          "metadata": {
            "tags": []
          },
          "execution_count": 31
        }
      ]
    },
    {
      "cell_type": "code",
      "metadata": {
        "id": "LUN_RRb37vof",
        "outputId": "d7951f84-bb7e-455a-e027-c72ab065b526"
      },
      "source": [
        "#eliminou o amarelo\n",
        "print(cores)"
      ],
      "execution_count": null,
      "outputs": [
        {
          "output_type": "stream",
          "text": [
            "['azul', 4.14, 'preto', 'verde']\n"
          ],
          "name": "stdout"
        }
      ]
    },
    {
      "cell_type": "code",
      "metadata": {
        "id": "9vFFnRk17vof"
      },
      "source": [
        "#append adiciona elementos\n",
        "cores.append(\"verde\")"
      ],
      "execution_count": null,
      "outputs": []
    },
    {
      "cell_type": "code",
      "metadata": {
        "id": "hleABDUu7vog"
      },
      "source": [
        "#removeu da lista \n",
        "cores.remove(88)"
      ],
      "execution_count": null,
      "outputs": []
    },
    {
      "cell_type": "code",
      "metadata": {
        "id": "UMN3rbSN7vog"
      },
      "source": [
        "#muda o elemento\n",
        "cores[1] = 'prata'"
      ],
      "execution_count": null,
      "outputs": []
    },
    {
      "cell_type": "code",
      "metadata": {
        "scrolled": true,
        "id": "pKffr8CX7vog",
        "outputId": "fc477fad-8000-47f8-b4ba-d2361839eb7b"
      },
      "source": [
        "print(cores)"
      ],
      "execution_count": null,
      "outputs": [
        {
          "output_type": "stream",
          "text": [
            "['azul', 'prata', 'preto', 'verde']\n"
          ],
          "name": "stdout"
        }
      ]
    },
    {
      "cell_type": "code",
      "metadata": {
        "id": "0ryOJ9887voh",
        "outputId": "cfd66657-0744-43d5-e148-9e42466b6590"
      },
      "source": [
        "#metodos usados por listas\n",
        "dir(cores)"
      ],
      "execution_count": null,
      "outputs": [
        {
          "output_type": "execute_result",
          "data": {
            "text/plain": [
              "['__add__',\n",
              " '__class__',\n",
              " '__contains__',\n",
              " '__delattr__',\n",
              " '__delitem__',\n",
              " '__dir__',\n",
              " '__doc__',\n",
              " '__eq__',\n",
              " '__format__',\n",
              " '__ge__',\n",
              " '__getattribute__',\n",
              " '__getitem__',\n",
              " '__gt__',\n",
              " '__hash__',\n",
              " '__iadd__',\n",
              " '__imul__',\n",
              " '__init__',\n",
              " '__init_subclass__',\n",
              " '__iter__',\n",
              " '__le__',\n",
              " '__len__',\n",
              " '__lt__',\n",
              " '__mul__',\n",
              " '__ne__',\n",
              " '__new__',\n",
              " '__reduce__',\n",
              " '__reduce_ex__',\n",
              " '__repr__',\n",
              " '__reversed__',\n",
              " '__rmul__',\n",
              " '__setattr__',\n",
              " '__setitem__',\n",
              " '__sizeof__',\n",
              " '__str__',\n",
              " '__subclasshook__',\n",
              " 'append',\n",
              " 'clear',\n",
              " 'copy',\n",
              " 'count',\n",
              " 'extend',\n",
              " 'index',\n",
              " 'insert',\n",
              " 'pop',\n",
              " 'remove',\n",
              " 'reverse',\n",
              " 'sort']"
            ]
          },
          "metadata": {
            "tags": []
          },
          "execution_count": 52
        }
      ]
    },
    {
      "cell_type": "code",
      "metadata": {
        "id": "-a3R_oac7voh"
      },
      "source": [
        "x = ['samy', 4, 1, 2, 3]\n",
        "x.sort()"
      ],
      "execution_count": null,
      "outputs": []
    },
    {
      "cell_type": "code",
      "metadata": {
        "id": "jv4u4wu27voi",
        "outputId": "2aad7be9-1653-48d6-bcf9-4f962bde1b90"
      },
      "source": [
        "x"
      ],
      "execution_count": null,
      "outputs": [
        {
          "output_type": "execute_result",
          "data": {
            "text/plain": [
              "['samy', 4, 1, 2, 3]"
            ]
          },
          "metadata": {
            "tags": []
          },
          "execution_count": 67
        }
      ]
    },
    {
      "cell_type": "markdown",
      "metadata": {
        "id": "B0L2T5437voi"
      },
      "source": [
        "## Tuplas"
      ]
    },
    {
      "cell_type": "code",
      "metadata": {
        "id": "9AYHeIRr8I29"
      },
      "source": [
        ""
      ],
      "execution_count": null,
      "outputs": []
    },
    {
      "cell_type": "code",
      "metadata": {
        "id": "Z8DBJHnq7voi"
      },
      "source": [
        "#tuplas diferente de listas não podem ser alteradas depois de definidas\n"
      ],
      "execution_count": null,
      "outputs": []
    },
    {
      "cell_type": "code",
      "metadata": {
        "id": "PyOSqL4n7voj"
      },
      "source": [
        "ingredientes = ('arroz', 'feijão', 'jilo', 4, 1, 2, 3)"
      ],
      "execution_count": null,
      "outputs": []
    },
    {
      "cell_type": "code",
      "metadata": {
        "id": "DPS19ZLa7voj",
        "outputId": "09e1a90d-3839-4d50-ee75-5a2bfcad541f"
      },
      "source": [
        "type(ingredientes)"
      ],
      "execution_count": null,
      "outputs": [
        {
          "output_type": "execute_result",
          "data": {
            "text/plain": [
              "tuple"
            ]
          },
          "metadata": {
            "tags": []
          },
          "execution_count": 72
        }
      ]
    },
    {
      "cell_type": "code",
      "metadata": {
        "id": "vqPQChmo7voj",
        "outputId": "3114e238-1540-4121-ac45-0efce48b47fd"
      },
      "source": [
        "dir(ingredientes)"
      ],
      "execution_count": null,
      "outputs": [
        {
          "output_type": "execute_result",
          "data": {
            "text/plain": [
              "['__add__',\n",
              " '__class__',\n",
              " '__contains__',\n",
              " '__delattr__',\n",
              " '__dir__',\n",
              " '__doc__',\n",
              " '__eq__',\n",
              " '__format__',\n",
              " '__ge__',\n",
              " '__getattribute__',\n",
              " '__getitem__',\n",
              " '__getnewargs__',\n",
              " '__gt__',\n",
              " '__hash__',\n",
              " '__init__',\n",
              " '__init_subclass__',\n",
              " '__iter__',\n",
              " '__le__',\n",
              " '__len__',\n",
              " '__lt__',\n",
              " '__mul__',\n",
              " '__ne__',\n",
              " '__new__',\n",
              " '__reduce__',\n",
              " '__reduce_ex__',\n",
              " '__repr__',\n",
              " '__rmul__',\n",
              " '__setattr__',\n",
              " '__sizeof__',\n",
              " '__str__',\n",
              " '__subclasshook__',\n",
              " 'count',\n",
              " 'index']"
            ]
          },
          "metadata": {
            "tags": []
          },
          "execution_count": 74
        }
      ]
    },
    {
      "cell_type": "code",
      "metadata": {
        "id": "Z_o25YuU7vok"
      },
      "source": [
        "x = ingredientes[2]"
      ],
      "execution_count": null,
      "outputs": []
    },
    {
      "cell_type": "code",
      "metadata": {
        "id": "CabKR0hq7vok",
        "outputId": "fedb1af6-7a82-4f8d-d66a-c608633c6e0c"
      },
      "source": [
        "x"
      ],
      "execution_count": null,
      "outputs": [
        {
          "output_type": "execute_result",
          "data": {
            "text/plain": [
              "'jilo'"
            ]
          },
          "metadata": {
            "tags": []
          },
          "execution_count": 76
        }
      ]
    },
    {
      "cell_type": "code",
      "metadata": {
        "id": "_0T_XwIs7vok",
        "outputId": "96368fd6-775b-44f1-ac97-f8fb58e87fac"
      },
      "source": [
        "len(ingredientes)"
      ],
      "execution_count": null,
      "outputs": [
        {
          "output_type": "execute_result",
          "data": {
            "text/plain": [
              "7"
            ]
          },
          "metadata": {
            "tags": []
          },
          "execution_count": 77
        }
      ]
    },
    {
      "cell_type": "markdown",
      "metadata": {
        "id": "WYMAzsRJ7vol"
      },
      "source": [
        "## Dicionários"
      ]
    },
    {
      "cell_type": "code",
      "metadata": {
        "id": "SaRxPWvW8McU"
      },
      "source": [
        ""
      ],
      "execution_count": null,
      "outputs": []
    },
    {
      "cell_type": "code",
      "metadata": {
        "id": "UVBcAAtT7vol"
      },
      "source": [
        "# tuplas definidas entre parenteses \n",
        "x = ()\n",
        "#str entre aspas ou aspas duplas\n",
        "x = '' \n",
        "x = \"\"\n",
        "#listas entre colchetes\n",
        "x = []\n",
        "#indices dentro de chaves \n",
        "x = {}"
      ],
      "execution_count": null,
      "outputs": []
    },
    {
      "cell_type": "code",
      "metadata": {
        "id": "MtHuMqRm7vom"
      },
      "source": [
        "#indice valores separados por virgulas \n",
        "\n",
        "x = {'nome':'samy','idade':40, 'comida':\"pizza\"}"
      ],
      "execution_count": null,
      "outputs": []
    },
    {
      "cell_type": "code",
      "metadata": {
        "id": "jShNq6-g7vom",
        "outputId": "8b50c6eb-ac39-4284-973b-5a2245093916"
      },
      "source": [
        "print(x)"
      ],
      "execution_count": null,
      "outputs": [
        {
          "output_type": "stream",
          "text": [
            "{'nome': 'samy', 'idade': 40, 'comida': 'pizza'}\n"
          ],
          "name": "stdout"
        }
      ]
    },
    {
      "cell_type": "code",
      "metadata": {
        "id": "g8GWJ5h47von",
        "outputId": "0f86629b-b26d-4074-e422-43cb07c66c6c"
      },
      "source": [
        "print(x['nome'])"
      ],
      "execution_count": null,
      "outputs": [
        {
          "output_type": "stream",
          "text": [
            "samy\n"
          ],
          "name": "stdout"
        }
      ]
    },
    {
      "cell_type": "code",
      "metadata": {
        "id": "8vcF53zv7von"
      },
      "source": [
        "x['nome'] = 'maria'"
      ],
      "execution_count": null,
      "outputs": []
    },
    {
      "cell_type": "code",
      "metadata": {
        "id": "yqlX4sGM7von",
        "outputId": "cd3783b3-1d8d-4a92-c749-3dd77f5c96f4"
      },
      "source": [
        "x"
      ],
      "execution_count": null,
      "outputs": [
        {
          "output_type": "execute_result",
          "data": {
            "text/plain": [
              "{'nome': 'maria', 'idade': 40, 'comida': 'pizza'}"
            ]
          },
          "metadata": {
            "tags": []
          },
          "execution_count": 88
        }
      ]
    },
    {
      "cell_type": "code",
      "metadata": {
        "id": "Z-xUCNRy7voo",
        "outputId": "9ebb5186-d537-485c-cc68-3e34e56555aa"
      },
      "source": [
        "len(x)"
      ],
      "execution_count": null,
      "outputs": [
        {
          "output_type": "execute_result",
          "data": {
            "text/plain": [
              "3"
            ]
          },
          "metadata": {
            "tags": []
          },
          "execution_count": 89
        }
      ]
    },
    {
      "cell_type": "code",
      "metadata": {
        "id": "eUk7z_gz7voo"
      },
      "source": [
        "x['ano'] = 'alice'"
      ],
      "execution_count": null,
      "outputs": []
    },
    {
      "cell_type": "code",
      "metadata": {
        "id": "qaAZVBuD7voo",
        "outputId": "723d5ae0-315b-4588-94d7-11b3cd9b2f34"
      },
      "source": [
        "x"
      ],
      "execution_count": null,
      "outputs": [
        {
          "output_type": "execute_result",
          "data": {
            "text/plain": [
              "{'nome': 'maria', 'idade': 40, 'comida': 'pizza', 'ano': 'alice'}"
            ]
          },
          "metadata": {
            "tags": []
          },
          "execution_count": 92
        }
      ]
    },
    {
      "cell_type": "code",
      "metadata": {
        "id": "5RHQB4rU7vop",
        "outputId": "d6fa2f0e-ef3b-49bb-d61d-8a2a7f4d1eaa"
      },
      "source": [
        "type(x)"
      ],
      "execution_count": null,
      "outputs": [
        {
          "output_type": "execute_result",
          "data": {
            "text/plain": [
              "dict"
            ]
          },
          "metadata": {
            "tags": []
          },
          "execution_count": 93
        }
      ]
    },
    {
      "cell_type": "code",
      "metadata": {
        "id": "cLVWnZPN7vop",
        "outputId": "7291c361-d3e7-407f-c176-f3100dfa3af2"
      },
      "source": [
        "x.pop(\"comida\")"
      ],
      "execution_count": null,
      "outputs": [
        {
          "output_type": "execute_result",
          "data": {
            "text/plain": [
              "'pizza'"
            ]
          },
          "metadata": {
            "tags": []
          },
          "execution_count": 94
        }
      ]
    },
    {
      "cell_type": "code",
      "metadata": {
        "id": "ORdxYnex7voq",
        "outputId": "8fa179ec-6477-4b73-bf75-91042f6be4c8"
      },
      "source": [
        "x"
      ],
      "execution_count": null,
      "outputs": [
        {
          "output_type": "execute_result",
          "data": {
            "text/plain": [
              "{'nome': 'maria', 'idade': 40, 'ano': 'alice'}"
            ]
          },
          "metadata": {
            "tags": []
          },
          "execution_count": 95
        }
      ]
    },
    {
      "cell_type": "code",
      "metadata": {
        "id": "LShm9J4e7voq",
        "outputId": "2cd132c1-0028-4564-8d5a-f95c3109865a"
      },
      "source": [
        "dir(x)"
      ],
      "execution_count": null,
      "outputs": [
        {
          "output_type": "execute_result",
          "data": {
            "text/plain": [
              "['__class__',\n",
              " '__contains__',\n",
              " '__delattr__',\n",
              " '__delitem__',\n",
              " '__dir__',\n",
              " '__doc__',\n",
              " '__eq__',\n",
              " '__format__',\n",
              " '__ge__',\n",
              " '__getattribute__',\n",
              " '__getitem__',\n",
              " '__gt__',\n",
              " '__hash__',\n",
              " '__init__',\n",
              " '__init_subclass__',\n",
              " '__iter__',\n",
              " '__le__',\n",
              " '__len__',\n",
              " '__lt__',\n",
              " '__ne__',\n",
              " '__new__',\n",
              " '__reduce__',\n",
              " '__reduce_ex__',\n",
              " '__repr__',\n",
              " '__reversed__',\n",
              " '__setattr__',\n",
              " '__setitem__',\n",
              " '__sizeof__',\n",
              " '__str__',\n",
              " '__subclasshook__',\n",
              " 'clear',\n",
              " 'copy',\n",
              " 'fromkeys',\n",
              " 'get',\n",
              " 'items',\n",
              " 'keys',\n",
              " 'pop',\n",
              " 'popitem',\n",
              " 'setdefault',\n",
              " 'update',\n",
              " 'values']"
            ]
          },
          "metadata": {
            "tags": []
          },
          "execution_count": 96
        }
      ]
    },
    {
      "cell_type": "markdown",
      "metadata": {
        "id": "uEoZoCCV7vor"
      },
      "source": [
        "# Booleanos"
      ]
    },
    {
      "cell_type": "code",
      "metadata": {
        "id": "FTHvbT-N7vor"
      },
      "source": [
        "# é como o resultado de uma operação True # false"
      ],
      "execution_count": null,
      "outputs": []
    },
    {
      "cell_type": "code",
      "metadata": {
        "id": "wg6jePnJ7vor",
        "outputId": "b183860f-42e4-471f-dc62-eb3cfffafc90"
      },
      "source": [
        "3>5"
      ],
      "execution_count": null,
      "outputs": [
        {
          "output_type": "execute_result",
          "data": {
            "text/plain": [
              "False"
            ]
          },
          "metadata": {
            "tags": []
          },
          "execution_count": 98
        }
      ]
    },
    {
      "cell_type": "code",
      "metadata": {
        "id": "gKFVmqeA7vos",
        "outputId": "bb727506-5324-43f0-eca9-fde8ca96035f"
      },
      "source": [
        "5>5"
      ],
      "execution_count": null,
      "outputs": [
        {
          "output_type": "execute_result",
          "data": {
            "text/plain": [
              "False"
            ]
          },
          "metadata": {
            "tags": []
          },
          "execution_count": 100
        }
      ]
    },
    {
      "cell_type": "code",
      "metadata": {
        "id": "jOQ9Eodo7vos",
        "outputId": "e9f14750-7300-4742-9d92-f12bc29f8c69"
      },
      "source": [
        "4<6"
      ],
      "execution_count": null,
      "outputs": [
        {
          "output_type": "execute_result",
          "data": {
            "text/plain": [
              "True"
            ]
          },
          "metadata": {
            "tags": []
          },
          "execution_count": 101
        }
      ]
    }
  ]
}