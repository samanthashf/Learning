{
  "nbformat": 4,
  "nbformat_minor": 0,
  "metadata": {
    "kernelspec": {
      "display_name": "Python 3",
      "language": "python",
      "name": "python3"
    },
    "language_info": {
      "codemirror_mode": {
        "name": "ipython",
        "version": 3
      },
      "file_extension": ".py",
      "mimetype": "text/x-python",
      "name": "python",
      "nbconvert_exporter": "python",
      "pygments_lexer": "ipython3",
      "version": "3.8.5"
    },
    "colab": {
      "name": "Biblioteca + Tipo de dados.ipynb",
      "provenance": [],
      "include_colab_link": true
    }
  },
  "cells": [
    {
      "cell_type": "markdown",
      "metadata": {
        "id": "view-in-github",
        "colab_type": "text"
      },
      "source": [
        "<a href=\"https://colab.research.google.com/github/samanthashf/Learning/blob/main/Biblioteca_%2B_Tipo_de_dados.ipynb\" target=\"_parent\"><img src=\"https://colab.research.google.com/assets/colab-badge.svg\" alt=\"Open In Colab\"/></a>"
      ]
    },
    {
      "cell_type": "markdown",
      "metadata": {
        "id": "S6rpwpDI_5TV"
      },
      "source": [
        "# BIBLIOTECA"
      ]
    },
    {
      "cell_type": "code",
      "metadata": {
        "id": "o4sorAZP_5Td"
      },
      "source": [
        "import pandas as pd"
      ],
      "execution_count": null,
      "outputs": []
    },
    {
      "cell_type": "markdown",
      "metadata": {
        "id": "rcYX0yho_5Th"
      },
      "source": [
        "#### Keyboard shortcuts mostra todos os atalhos do Jupiter. Digitando H aparece o Keyboard. "
      ]
    },
    {
      "cell_type": "markdown",
      "metadata": {
        "id": "XSSj44Vc_5Tj"
      },
      "source": [
        "#### Pip3 install+ o nome da biblioteca que quero instalar. Maneira fácil sem precisar sair do Jupiter e ir no Anaconda"
      ]
    },
    {
      "cell_type": "markdown",
      "metadata": {
        "id": "zx1M1pCz_5Tk"
      },
      "source": [
        "#### shift + tab o Jupiter me explica como devo utilizar o comando caso eu não me lembre "
      ]
    },
    {
      "cell_type": "markdown",
      "metadata": {
        "id": "_FPrxThu_5Tl"
      },
      "source": [
        "# TIPOS DE DADOS "
      ]
    },
    {
      "cell_type": "markdown",
      "metadata": {
        "id": "FYG5dXpK_5Tm"
      },
      "source": [
        "## Variáveis e Constantes \n"
      ]
    },
    {
      "cell_type": "code",
      "metadata": {
        "id": "IeHSDb0T_5Tm"
      },
      "source": [
        "nome = \"Samantha\"\n",
        "idade = 40 \n",
        "profissao = \"cientista de dados\""
      ],
      "execution_count": null,
      "outputs": []
    },
    {
      "cell_type": "code",
      "metadata": {
        "id": "c-EPc2TD_5Tn",
        "outputId": "8e61e380-b444-4f6f-d33f-82f35f880cd0"
      },
      "source": [
        "nome + profissao"
      ],
      "execution_count": null,
      "outputs": [
        {
          "output_type": "execute_result",
          "data": {
            "text/plain": [
              "'Samanthacientista de dados'"
            ]
          },
          "metadata": {
            "tags": []
          },
          "execution_count": 34
        }
      ]
    },
    {
      "cell_type": "code",
      "metadata": {
        "id": "vAofxaBC_5To"
      },
      "source": [
        "idade = idade + 30"
      ],
      "execution_count": null,
      "outputs": []
    },
    {
      "cell_type": "code",
      "metadata": {
        "id": "5SOGLlYe_5Tp",
        "outputId": "770984fd-f251-42e5-d787-b6038183b803"
      },
      "source": [
        "idade"
      ],
      "execution_count": null,
      "outputs": [
        {
          "output_type": "execute_result",
          "data": {
            "text/plain": [
              "70"
            ]
          },
          "metadata": {
            "tags": []
          },
          "execution_count": 29
        }
      ]
    },
    {
      "cell_type": "markdown",
      "metadata": {
        "id": "95TZeDRU_5UB"
      },
      "source": [
        "##### Constantes são os valores que não podem ser alterados como os números ou nomes, Samantha vai ser sempre Samantha, mas posso colocar o sobrenome..."
      ]
    },
    {
      "cell_type": "markdown",
      "metadata": {
        "id": "169rTK_F_5UC"
      },
      "source": [
        "## Números "
      ]
    },
    {
      "cell_type": "code",
      "metadata": {
        "id": "CkqapfLe_5UE",
        "outputId": "b307ea89-5db8-4409-a294-3b9e6fa0c6bd"
      },
      "source": [
        "0, 1, 2, 3, 4, 5, 3.12, 4.5"
      ],
      "execution_count": null,
      "outputs": [
        {
          "output_type": "execute_result",
          "data": {
            "text/plain": [
              "(0, 1, 2, 3, 4, 5, 3.12, 4.5)"
            ]
          },
          "metadata": {
            "tags": []
          },
          "execution_count": 39
        }
      ]
    },
    {
      "cell_type": "code",
      "metadata": {
        "id": "QsBoO4SF_5UF",
        "outputId": "50229ba5-7d42-47df-a068-3d4f71979bd5"
      },
      "source": [
        "x = 3.12\n",
        "x"
      ],
      "execution_count": null,
      "outputs": [
        {
          "output_type": "execute_result",
          "data": {
            "text/plain": [
              "3.12"
            ]
          },
          "metadata": {
            "tags": []
          },
          "execution_count": 40
        }
      ]
    },
    {
      "cell_type": "code",
      "metadata": {
        "id": "-NtueSHv_5UG",
        "outputId": "ee0b4184-ffc1-4d1b-99cd-1f337cab5b0a"
      },
      "source": [
        "x = 25 - 4.5\n",
        "x"
      ],
      "execution_count": null,
      "outputs": [
        {
          "output_type": "execute_result",
          "data": {
            "text/plain": [
              "20.5"
            ]
          },
          "metadata": {
            "tags": []
          },
          "execution_count": 41
        }
      ]
    },
    {
      "cell_type": "code",
      "metadata": {
        "id": "k-QoYx_y_5UH",
        "outputId": "9a2f002d-ae65-4eb8-b4b9-343acd77fb56"
      },
      "source": [
        "x = 25\n",
        "x + x "
      ],
      "execution_count": null,
      "outputs": [
        {
          "output_type": "execute_result",
          "data": {
            "text/plain": [
              "50"
            ]
          },
          "metadata": {
            "tags": []
          },
          "execution_count": 43
        }
      ]
    },
    {
      "cell_type": "code",
      "metadata": {
        "id": "u_BiGWWg_5UH",
        "outputId": "8650f6da-ccbd-4c9f-fd0e-1172010530b6"
      },
      "source": [
        "c = -12 \n",
        "x + c"
      ],
      "execution_count": null,
      "outputs": [
        {
          "output_type": "execute_result",
          "data": {
            "text/plain": [
              "13"
            ]
          },
          "metadata": {
            "tags": []
          },
          "execution_count": 44
        }
      ]
    },
    {
      "cell_type": "markdown",
      "metadata": {
        "id": "AWwaEH6l_5UI"
      },
      "source": [
        "## Operações com números "
      ]
    },
    {
      "cell_type": "code",
      "metadata": {
        "id": "CkLnuDhQ_5UJ",
        "outputId": "b3e9a958-2a7c-4625-8549-a89d837c0c78"
      },
      "source": [
        "10 + 5 "
      ],
      "execution_count": null,
      "outputs": [
        {
          "output_type": "execute_result",
          "data": {
            "text/plain": [
              "15"
            ]
          },
          "metadata": {
            "tags": []
          },
          "execution_count": 45
        }
      ]
    },
    {
      "cell_type": "code",
      "metadata": {
        "id": "8-Ua2Chd_5UK",
        "outputId": "69cfa729-419c-43b8-ea95-6ad4351cb836"
      },
      "source": [
        "26 - 3.12"
      ],
      "execution_count": null,
      "outputs": [
        {
          "output_type": "execute_result",
          "data": {
            "text/plain": [
              "22.88"
            ]
          },
          "metadata": {
            "tags": []
          },
          "execution_count": 46
        }
      ]
    },
    {
      "cell_type": "code",
      "metadata": {
        "id": "5E2GhuZO_5UM",
        "outputId": "c06dd9d6-57a2-4fe9-8f91-a9e76cfdd53e"
      },
      "source": [
        "3,5555 * 312"
      ],
      "execution_count": null,
      "outputs": [
        {
          "output_type": "execute_result",
          "data": {
            "text/plain": [
              "(3, 1733160)"
            ]
          },
          "metadata": {
            "tags": []
          },
          "execution_count": 47
        }
      ]
    },
    {
      "cell_type": "code",
      "metadata": {
        "id": "tkhQBvYx_5UO",
        "outputId": "65dc8216-a057-46c9-e99f-5ca85f3c435d"
      },
      "source": [
        "10/3"
      ],
      "execution_count": null,
      "outputs": [
        {
          "output_type": "execute_result",
          "data": {
            "text/plain": [
              "3.3333333333333335"
            ]
          },
          "metadata": {
            "tags": []
          },
          "execution_count": 48
        }
      ]
    },
    {
      "cell_type": "code",
      "metadata": {
        "id": "KWWy6D1W_5UP",
        "outputId": "779e5888-78c7-4de1-b4e8-b6b3d0a5c26c"
      },
      "source": [
        "10//3"
      ],
      "execution_count": null,
      "outputs": [
        {
          "output_type": "execute_result",
          "data": {
            "text/plain": [
              "3"
            ]
          },
          "metadata": {
            "tags": []
          },
          "execution_count": 49
        }
      ]
    },
    {
      "cell_type": "code",
      "metadata": {
        "id": "fxTPrLQe_5UR",
        "outputId": "1db508e3-1e34-4a42-d93d-2c3fe7caedc0"
      },
      "source": [
        "10**2"
      ],
      "execution_count": null,
      "outputs": [
        {
          "output_type": "execute_result",
          "data": {
            "text/plain": [
              "100"
            ]
          },
          "metadata": {
            "tags": []
          },
          "execution_count": 50
        }
      ]
    },
    {
      "cell_type": "code",
      "metadata": {
        "id": "abOK8myr_5US",
        "outputId": "e85a4f84-083c-4c06-90e2-88e421727b9d"
      },
      "source": [
        "10%5"
      ],
      "execution_count": null,
      "outputs": [
        {
          "output_type": "execute_result",
          "data": {
            "text/plain": [
              "0"
            ]
          },
          "metadata": {
            "tags": []
          },
          "execution_count": 51
        }
      ]
    },
    {
      "cell_type": "code",
      "metadata": {
        "id": "VYvgAc3S_5US",
        "outputId": "fd763d80-2694-49a7-c3a8-a7896a32a66e"
      },
      "source": [
        "10 + 5 * 3"
      ],
      "execution_count": null,
      "outputs": [
        {
          "output_type": "execute_result",
          "data": {
            "text/plain": [
              "25"
            ]
          },
          "metadata": {
            "tags": []
          },
          "execution_count": 52
        }
      ]
    },
    {
      "cell_type": "markdown",
      "metadata": {
        "id": "iGsTeXV-_5UT"
      },
      "source": [
        "##### Python entende os sinais das operações que tem a maior precedência que no caso acima é o sinal * e no abaixo **"
      ]
    },
    {
      "cell_type": "code",
      "metadata": {
        "id": "aUdP62ia_5UU",
        "outputId": "bce32323-aaba-4eb6-8789-a5ec424b3f0a"
      },
      "source": [
        "5*3**2"
      ],
      "execution_count": null,
      "outputs": [
        {
          "output_type": "execute_result",
          "data": {
            "text/plain": [
              "45"
            ]
          },
          "metadata": {
            "tags": []
          },
          "execution_count": 53
        }
      ]
    },
    {
      "cell_type": "code",
      "metadata": {
        "id": "wUhjqGfm_5UV",
        "outputId": "31cd9f50-5302-4b76-87fc-364b967cbc7e"
      },
      "source": [
        "(5*3)**2"
      ],
      "execution_count": null,
      "outputs": [
        {
          "output_type": "execute_result",
          "data": {
            "text/plain": [
              "225"
            ]
          },
          "metadata": {
            "tags": []
          },
          "execution_count": 54
        }
      ]
    },
    {
      "cell_type": "code",
      "metadata": {
        "id": "loeyKUJX_5UV",
        "outputId": "8d7b2c9a-adc4-4584-f81b-06ce20be54d6"
      },
      "source": [
        "5*(3**2)"
      ],
      "execution_count": null,
      "outputs": [
        {
          "output_type": "execute_result",
          "data": {
            "text/plain": [
              "45"
            ]
          },
          "metadata": {
            "tags": []
          },
          "execution_count": 55
        }
      ]
    },
    {
      "cell_type": "code",
      "metadata": {
        "id": "qZCvnSch_5UW",
        "outputId": "40cdf23c-3856-4d0c-fb2c-48e4192c005f"
      },
      "source": [
        "3**2"
      ],
      "execution_count": null,
      "outputs": [
        {
          "output_type": "execute_result",
          "data": {
            "text/plain": [
              "9"
            ]
          },
          "metadata": {
            "tags": []
          },
          "execution_count": 56
        }
      ]
    },
    {
      "cell_type": "code",
      "metadata": {
        "id": "coqXcxVB_5UX",
        "outputId": "3c7a1e62-61a2-4a49-c3ad-41c3d88ee8a1"
      },
      "source": [
        "5*9"
      ],
      "execution_count": null,
      "outputs": [
        {
          "output_type": "execute_result",
          "data": {
            "text/plain": [
              "45"
            ]
          },
          "metadata": {
            "tags": []
          },
          "execution_count": 57
        }
      ]
    },
    {
      "cell_type": "markdown",
      "metadata": {
        "id": "Pgu9Ul39_5UX"
      },
      "source": [
        "## Precedências de ordem segundo o Python\n",
        "\n",
        "()\n",
        "\n",
        "**\n",
        "\n",
        "/ // %\n",
        "\n",
        "Soma + e - Subtração"
      ]
    },
    {
      "cell_type": "code",
      "metadata": {
        "id": "WlGeePAR_5UY",
        "outputId": "4fcda63a-dc7f-402d-e97b-6ac998825802"
      },
      "source": [
        "5 - 2 * 3 ** 2 "
      ],
      "execution_count": null,
      "outputs": [
        {
          "output_type": "execute_result",
          "data": {
            "text/plain": [
              "-13"
            ]
          },
          "metadata": {
            "tags": []
          },
          "execution_count": 58
        }
      ]
    },
    {
      "cell_type": "markdown",
      "metadata": {
        "id": "c3OguCUd_5UZ"
      },
      "source": [
        "## Operação seguindo a precedência "
      ]
    },
    {
      "cell_type": "code",
      "metadata": {
        "id": "2JgnLDvU_5UZ",
        "outputId": "da31e85f-2f64-4e6e-abd7-f0e89b75daf4"
      },
      "source": [
        "((5-2)*3)**2"
      ],
      "execution_count": null,
      "outputs": [
        {
          "output_type": "execute_result",
          "data": {
            "text/plain": [
              "81"
            ]
          },
          "metadata": {
            "tags": []
          },
          "execution_count": 59
        }
      ]
    },
    {
      "cell_type": "markdown",
      "metadata": {
        "id": "rN75crND_5Ua"
      },
      "source": [
        "##### Operação seguindo a ordem que preciso"
      ]
    },
    {
      "cell_type": "markdown",
      "metadata": {
        "id": "1yvhxWon_5Ua"
      },
      "source": [
        "## Tipos dinâmicos de variáveis "
      ]
    },
    {
      "cell_type": "markdown",
      "metadata": {
        "id": "EH4oxDW6_5Ub"
      },
      "source": [
        "##### Em Python é preciso somente colocar oo nome da variável e ele irá aceitar mesmo se depois quiser mudar o dados da variável "
      ]
    },
    {
      "cell_type": "code",
      "metadata": {
        "id": "XvA8RB50_5Ub"
      },
      "source": [
        "elementos = 3"
      ],
      "execution_count": null,
      "outputs": []
    },
    {
      "cell_type": "code",
      "metadata": {
        "id": "cnavPsnc_5Uc",
        "outputId": "962dc021-7c84-48b0-b1c5-72552a31fe2a"
      },
      "source": [
        "print (elementos)"
      ],
      "execution_count": null,
      "outputs": [
        {
          "output_type": "stream",
          "text": [
            "3\n"
          ],
          "name": "stdout"
        }
      ]
    },
    {
      "cell_type": "code",
      "metadata": {
        "id": "z-rJ1CTD_5Ue",
        "outputId": "132aa2d5-c9cc-4515-c44a-4dff47f122c6"
      },
      "source": [
        "nome = \"samantha\"\n",
        "print (nome)"
      ],
      "execution_count": null,
      "outputs": [
        {
          "output_type": "stream",
          "text": [
            "samantha\n"
          ],
          "name": "stdout"
        }
      ]
    },
    {
      "cell_type": "code",
      "metadata": {
        "id": "eAumYjEL_5Uf",
        "outputId": "6eac11a6-83c6-441d-f8a2-3947077fbc1e"
      },
      "source": [
        "lista = [1,2,3,4]\n",
        "type (lista)"
      ],
      "execution_count": null,
      "outputs": [
        {
          "output_type": "execute_result",
          "data": {
            "text/plain": [
              "list"
            ]
          },
          "metadata": {
            "tags": []
          },
          "execution_count": 66
        }
      ]
    },
    {
      "cell_type": "code",
      "metadata": {
        "id": "07AqAzrt_5Uj",
        "outputId": "84b1644f-0ba5-42ec-f3fe-d5ca66bcc8da"
      },
      "source": [
        "lista = 11.3\n",
        "type (lista)"
      ],
      "execution_count": null,
      "outputs": [
        {
          "output_type": "execute_result",
          "data": {
            "text/plain": [
              "float"
            ]
          },
          "metadata": {
            "tags": []
          },
          "execution_count": 67
        }
      ]
    },
    {
      "cell_type": "code",
      "metadata": {
        "id": "gpCNTX5F_5Uk",
        "outputId": "708a8492-c78b-46c8-8a73-1c913d9b6637"
      },
      "source": [
        "lista = 13\n",
        "type (lista)"
      ],
      "execution_count": null,
      "outputs": [
        {
          "output_type": "execute_result",
          "data": {
            "text/plain": [
              "int"
            ]
          },
          "metadata": {
            "tags": []
          },
          "execution_count": 68
        }
      ]
    },
    {
      "cell_type": "code",
      "metadata": {
        "id": "capbE4he_5Ul",
        "outputId": "df225f08-f565-420a-b44f-0ecbcb5f3def"
      },
      "source": [
        "lista = \"13\"\n",
        "type (lista)"
      ],
      "execution_count": null,
      "outputs": [
        {
          "output_type": "execute_result",
          "data": {
            "text/plain": [
              "str"
            ]
          },
          "metadata": {
            "tags": []
          },
          "execution_count": 69
        }
      ]
    },
    {
      "cell_type": "markdown",
      "metadata": {
        "id": "Bs0GcxHX_5Un"
      },
      "source": [
        "## Casting "
      ]
    },
    {
      "cell_type": "markdown",
      "metadata": {
        "id": "GgMN3Qqg_5Uo"
      },
      "source": [
        "#### 3 tipos\n",
        "\n",
        "int\n",
        "\n",
        "float\n",
        "\n",
        "str"
      ]
    },
    {
      "cell_type": "code",
      "metadata": {
        "id": "No4eQnXu_5Uo",
        "outputId": "df77a436-859c-4464-ad6b-fdd3e35c145a"
      },
      "source": [
        "int (3.14) #numero inteiro"
      ],
      "execution_count": null,
      "outputs": [
        {
          "output_type": "execute_result",
          "data": {
            "text/plain": [
              "3"
            ]
          },
          "metadata": {
            "tags": []
          },
          "execution_count": 70
        }
      ]
    },
    {
      "cell_type": "code",
      "metadata": {
        "id": "KgFr7BeT_5Up",
        "outputId": "4e820998-c53b-4d49-ef4c-1775e58738ce"
      },
      "source": [
        "float (3) #numero flutuante"
      ],
      "execution_count": null,
      "outputs": [
        {
          "output_type": "execute_result",
          "data": {
            "text/plain": [
              "3.0"
            ]
          },
          "metadata": {
            "tags": []
          },
          "execution_count": 71
        }
      ]
    },
    {
      "cell_type": "code",
      "metadata": {
        "id": "zA075hQr_5Ur",
        "outputId": "c95f30e0-70da-4066-c028-7e81d7624f58"
      },
      "source": [
        "str ('12') #entre aspas "
      ],
      "execution_count": null,
      "outputs": [
        {
          "output_type": "execute_result",
          "data": {
            "text/plain": [
              "'12'"
            ]
          },
          "metadata": {
            "tags": []
          },
          "execution_count": 76
        }
      ]
    },
    {
      "cell_type": "code",
      "metadata": {
        "id": "WJLBSDRV_5Ur",
        "outputId": "f6f671ee-36e7-4b43-cc4c-e698a7ce2529"
      },
      "source": [
        "x = '12'\n",
        "int (x)+8"
      ],
      "execution_count": null,
      "outputs": [
        {
          "output_type": "execute_result",
          "data": {
            "text/plain": [
              "20"
            ]
          },
          "metadata": {
            "tags": []
          },
          "execution_count": 79
        }
      ]
    },
    {
      "cell_type": "code",
      "metadata": {
        "id": "dYrgZwsT_5Us",
        "outputId": "067ecf0d-6fa2-472b-c4e9-11f3637c864d"
      },
      "source": [
        "x = '12'\n",
        "float (x)+8"
      ],
      "execution_count": null,
      "outputs": [
        {
          "output_type": "execute_result",
          "data": {
            "text/plain": [
              "20.0"
            ]
          },
          "metadata": {
            "tags": []
          },
          "execution_count": 80
        }
      ]
    },
    {
      "cell_type": "markdown",
      "metadata": {
        "id": "FXonxNt4_5Us"
      },
      "source": [
        "## Strings "
      ]
    },
    {
      "cell_type": "markdown",
      "metadata": {
        "id": "t1zjsJLc_5Ut"
      },
      "source": [
        "##### Todos os tipos de informação em texto. Não tem numeral, somas e variáveis. Delimitados por aspas simples ou duplas\n"
      ]
    },
    {
      "cell_type": "code",
      "metadata": {
        "id": "Hoa_R_qe_5Ut"
      },
      "source": [
        "print = \"todos os texto\"\n"
      ],
      "execution_count": null,
      "outputs": []
    },
    {
      "cell_type": "code",
      "metadata": {
        "id": "7Vyxh8X5_5Ux",
        "outputId": "2245b630-3cdb-4331-b509-800196c21e58"
      },
      "source": [
        "nome = \"samantha\"\n",
        "type (nome)"
      ],
      "execution_count": null,
      "outputs": [
        {
          "output_type": "execute_result",
          "data": {
            "text/plain": [
              "str"
            ]
          },
          "metadata": {
            "tags": []
          },
          "execution_count": 10
        }
      ]
    },
    {
      "cell_type": "code",
      "metadata": {
        "id": "jK5mf7zG_5Uy",
        "outputId": "2719fa8a-9873-44f6-e72a-aaf5c750680c"
      },
      "source": [
        "#as strings não fazem calculos portanto dentro de diversos numeros em string (aspas) o comando junta os números\n",
        "\"13\" + \"13\""
      ],
      "execution_count": null,
      "outputs": [
        {
          "output_type": "execute_result",
          "data": {
            "text/plain": [
              "'1313'"
            ]
          },
          "metadata": {
            "tags": []
          },
          "execution_count": 21
        }
      ]
    },
    {
      "cell_type": "code",
      "metadata": {
        "id": "gBWK55QM_5Uz",
        "outputId": "275a4462-6a24-428f-cdd3-418a1ad684ac"
      },
      "source": [
        "\"Samantha\" + \"13\""
      ],
      "execution_count": null,
      "outputs": [
        {
          "output_type": "execute_result",
          "data": {
            "text/plain": [
              "'Samantha13'"
            ]
          },
          "metadata": {
            "tags": []
          },
          "execution_count": 22
        }
      ]
    },
    {
      "cell_type": "code",
      "metadata": {
        "id": "YPKVbh7g_5U0",
        "outputId": "76d3bdc3-e75e-4a9a-908e-ac3fb15df281"
      },
      "source": [
        "#repete 5 vezes a string e não faz cálculo\n",
        "\n",
        "\"13\" * 5"
      ],
      "execution_count": null,
      "outputs": [
        {
          "output_type": "execute_result",
          "data": {
            "text/plain": [
              "'1313131313'"
            ]
          },
          "metadata": {
            "tags": []
          },
          "execution_count": 23
        }
      ]
    },
    {
      "cell_type": "code",
      "metadata": {
        "id": "pAMCKce4_5U0",
        "outputId": "92872011-acad-4bfd-ddad-d9e060f8f57b"
      },
      "source": [
        "#método print de funcionar \n",
        "print (\"olá mundo\")"
      ],
      "execution_count": null,
      "outputs": [
        {
          "output_type": "stream",
          "text": [
            "olá mundo\n"
          ],
          "name": "stdout"
        }
      ]
    },
    {
      "cell_type": "code",
      "metadata": {
        "id": "UV4e4_9i_5U1",
        "outputId": "42f379d0-878b-41fc-fa4d-d08ca28a212b"
      },
      "source": [
        "#método type que me traz o tipo de código digitado \n",
        "type (\"13\")"
      ],
      "execution_count": null,
      "outputs": [
        {
          "output_type": "execute_result",
          "data": {
            "text/plain": [
              "str"
            ]
          },
          "metadata": {
            "tags": []
          },
          "execution_count": 2
        }
      ]
    },
    {
      "cell_type": "code",
      "metadata": {
        "id": "kadHhxLi_5U1",
        "outputId": "d515bbbf-3e18-438b-a2e3-c9e958d1811c"
      },
      "source": [
        "#texto em caixa alta \n",
        "\n",
        "x =\"terra\"\n",
        "\n",
        "x.upper ()"
      ],
      "execution_count": null,
      "outputs": [
        {
          "output_type": "execute_result",
          "data": {
            "text/plain": [
              "'TERRA'"
            ]
          },
          "metadata": {
            "tags": []
          },
          "execution_count": 1
        }
      ]
    }
  ]
}